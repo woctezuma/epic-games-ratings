{
  "nbformat": 4,
  "nbformat_minor": 0,
  "metadata": {
    "colab": {
      "name": "epic-games-ratings.ipynb",
      "provenance": [],
      "private_outputs": true,
      "collapsed_sections": []
    },
    "kernelspec": {
      "name": "python3",
      "display_name": "Python 3"
    },
    "language_info": {
      "name": "python"
    },
    "gpuClass": "standard"
  },
  "cells": [
    {
      "cell_type": "markdown",
      "source": [
        "# Epic Games Ratings\n",
        "Reference: https://github.com/woctezuma/epic-games-ratings"
      ],
      "metadata": {
        "id": "Dx1JvmPNY3wm"
      }
    },
    {
      "cell_type": "code",
      "execution_count": null,
      "metadata": {
        "id": "pnWInuAH6bSp"
      },
      "outputs": [],
      "source": [
        "%cd /content\n",
        "!git clone https://github.com/woctezuma/epic-games-ratings.git\n",
        "%cd epic-games-ratings\n",
        "%pip install -r requirements.txt"
      ]
    },
    {
      "cell_type": "code",
      "source": [
        "!python download_store_products.py"
      ],
      "metadata": {
        "id": "iFk2bP7-841x"
      },
      "execution_count": null,
      "outputs": []
    },
    {
      "cell_type": "code",
      "source": [
        "!python download_sandbox_ids.py"
      ],
      "metadata": {
        "id": "eclTR41786il"
      },
      "execution_count": null,
      "outputs": []
    },
    {
      "cell_type": "code",
      "source": [
        "!python download_game_ratings.py"
      ],
      "metadata": {
        "id": "27QKZz_tYx7s"
      },
      "execution_count": null,
      "outputs": []
    },
    {
      "cell_type": "code",
      "source": [
        "!python export_results.py"
      ],
      "metadata": {
        "id": "nKBK9IEXG9UP"
      },
      "execution_count": null,
      "outputs": []
    }
  ]
}